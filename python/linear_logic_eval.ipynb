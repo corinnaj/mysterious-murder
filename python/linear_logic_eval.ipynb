{
 "cells": [
  {
   "cell_type": "code",
   "execution_count": null,
   "metadata": {},
   "outputs": [],
   "source": [
    "from src.murder_mystery import rules\n",
    "from src.evaluator import Evaluator\n",
    "from src.state_generator import create_characters\n",
    "from src.simulation import Simulation\n",
    "from src.agent import MCTSAgent\n",
    "\n",
    "characters, state = create_characters(4)\n",
    "s = Simulation(Evaluator(rules=rules, actors=characters, state=state),\n",
    "               agent=MCTSAgent(),\n",
    "               log=True)\n",
    "\n",
    "s.run(interactive=False, max_steps=3)\n",
    "s.print_graph(view=True, show_all=False)\n"
   ]
  },
  {
   "cell_type": "code",
   "execution_count": 5,
   "metadata": {},
   "outputs": [
    {
     "name": "stdout",
     "output_type": "stream",
     "text": [
      "Collecting names\n",
      "\u001b[?25l  Downloading https://files.pythonhosted.org/packages/44/4e/f9cb7ef2df0250f4ba3334fbdabaa94f9c88097089763d8e85ada8092f84/names-0.3.0.tar.gz (789kB)\n",
      "\u001b[K    100% |████████████████████████████████| 798kB 1.9MB/s ta 0:00:01\n",
      "\u001b[?25hBuilding wheels for collected packages: names\n",
      "  Running setup.py bdist_wheel for names ... \u001b[?25ldone\n",
      "\u001b[?25h  Stored in directory: /home/tom/.cache/pip/wheels/f9/a5/e1/be3e0aaa6fa285575078fa2aafd9959b45bdbc8de8a6803aeb\n",
      "Successfully built names\n",
      "Installing collected packages: names\n",
      "Successfully installed names-0.3.0\n"
     ]
    }
   ],
   "source": [
    "!pip3 install names"
   ]
  }
 ],
 "metadata": {
  "kernelspec": {
   "display_name": "Python 3",
   "language": "python",
   "name": "python3"
  },
  "language_info": {
   "codemirror_mode": {
    "name": "ipython",
    "version": 3
   },
   "file_extension": ".py",
   "mimetype": "text/x-python",
   "name": "python",
   "nbconvert_exporter": "python",
   "pygments_lexer": "ipython3",
   "version": "3.8.2"
  }
 },
 "nbformat": 4,
 "nbformat_minor": 4
}
